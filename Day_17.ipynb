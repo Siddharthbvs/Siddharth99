{
 "cells": [
  {
   "cell_type": "code",
   "execution_count": 3,
   "id": "312ae9ee-11d7-4bc2-b397-7b1e68537a7f",
   "metadata": {},
   "outputs": [
    {
     "ename": "ModuleNotFoundError",
     "evalue": "No module named 'spellchecker'",
     "output_type": "error",
     "traceback": [
      "\u001b[1;31m---------------------------------------------------------------------------\u001b[0m",
      "\u001b[1;31mModuleNotFoundError\u001b[0m                       Traceback (most recent call last)",
      "Cell \u001b[1;32mIn[3], line 7\u001b[0m\n\u001b[0;32m      5\u001b[0m \u001b[38;5;28;01mfrom\u001b[39;00m \u001b[38;5;21;01msklearn\u001b[39;00m\u001b[38;5;21;01m.\u001b[39;00m\u001b[38;5;21;01mimpute\u001b[39;00m \u001b[38;5;28;01mimport\u001b[39;00m SimpleImputer\n\u001b[0;32m      6\u001b[0m \u001b[38;5;28;01mfrom\u001b[39;00m \u001b[38;5;21;01msklearn\u001b[39;00m\u001b[38;5;21;01m.\u001b[39;00m\u001b[38;5;21;01mpreprocessing\u001b[39;00m \u001b[38;5;28;01mimport\u001b[39;00m MinMaxScaler, LabelEncoder\n\u001b[1;32m----> 7\u001b[0m \u001b[38;5;28;01mfrom\u001b[39;00m \u001b[38;5;21;01mspellchecker\u001b[39;00m \u001b[38;5;28;01mimport\u001b[39;00m SpellChecker\n\u001b[0;32m      8\u001b[0m df \u001b[38;5;241m=\u001b[39m pd\u001b[38;5;241m.\u001b[39mread_csv(\u001b[38;5;124m'\u001b[39m\u001b[38;5;124mTours_and_Travels.csv\u001b[39m\u001b[38;5;124m'\u001b[39m)\n\u001b[0;32m      9\u001b[0m \u001b[38;5;28mprint\u001b[39m(\u001b[38;5;124m\"\u001b[39m\u001b[38;5;124mColumns in dataset:\u001b[39m\u001b[38;5;124m\"\u001b[39m, df\u001b[38;5;241m.\u001b[39mcolumns)\n",
      "\u001b[1;31mModuleNotFoundError\u001b[0m: No module named 'spellchecker'"
     ]
    }
   ],
   "source": [
    "import pandas as pd\n",
    "import numpy as np\n",
    "import seaborn as sns\n",
    "import matplotlib.pyplot as plt\n",
    "from sklearn.impute import SimpleImputer\n",
    "from sklearn.preprocessing import MinMaxScaler, LabelEncoder\n",
    "from spellchecker import SpellChecker\n",
    "df = pd.read_csv('Tours_and_Travels.csv')\n",
    "print(\"Columns in dataset:\", df.columns)\n",
    "cols_to_impute = [col for col in ['Customer_Age', 'Rating'] if col in df.columns]\n",
    "if cols_to_impute:\n",
    "    imputer = SimpleImputer(strategy='mean')\n",
    "    df[cols_to_impute] = imputer.fit_transform(df[cols_to_impute])\n",
    "if 'Review_Text' in df.columns:\n",
    "    df['Review_Text'].fillna(\"No review provided\", inplace=True)\n",
    "df = df.drop_duplicates()\n",
    "if 'Rating' in df.columns:\n",
    "    df['Rating'] = df['Rating'].clip(1, 5)\n",
    "if 'Tour_Package' in df.columns:\n",
    "    spell = SpellChecker()\n",
    "    df['Tour_Package'] = df['Tour_Package'].apply(lambda x: ' '.join([spell.correction(word) if spell.correction(word) else word for word in str(x).split()]))\n",
    "numerical_cols = [col for col in ['Package_Price', 'Rating'] if col in df.columns]\n",
    "for col in numerical_cols:\n",
    "    Q1 = df[col].quantile(0.25)\n",
    "    Q3 = df[col].quantile(0.75)\n",
    "    IQR = Q3 - Q1\n",
    "    lower_bound = Q1 - 1.5 * IQR\n",
    "    upper_bound = Q3 + 1.5 * IQR\n",
    "    df[col] = np.where(df[col] < lower_bound, lower_bound, df[col])\n",
    "    df[col] = np.where(df[col] > upper_bound, upper_bound, df[col])\n",
    "if 'Package_Price' in df.columns:\n",
    "    scaler = MinMaxScaler()\n",
    "    df[['Package_Price']] = scaler.fit_transform(df[['Package_Price']])\n",
    "if 'Tour_Package' in df.columns:\n",
    "    label_encoder = LabelEncoder()\n",
    "    df['Tour_Package'] = label_encoder.fit_transform(df['Tour_Package'])\n",
    "print(df.info())\n",
    "print(df.isna().sum())\n",
    "print(df.duplicated().sum())\n",
    "df.to_csv('cleaned_travel_reviews.csv', index=False)"
   ]
  },
  {
   "cell_type": "code",
   "execution_count": 7,
   "id": "b644e991-d7af-462f-a935-7cfb037a002f",
   "metadata": {},
   "outputs": [
    {
     "name": "stdout",
     "output_type": "stream",
     "text": [
      "Columns in dataset: Index(['Booking_ID', 'Destination', 'Package_Price', 'Customer_Age', 'Rating',\n",
      "       'Review_Text', 'Travel_Date'],\n",
      "      dtype='object')\n",
      "<class 'pandas.core.frame.DataFrame'>\n",
      "Index: 500 entries, 0 to 499\n",
      "Data columns (total 7 columns):\n",
      " #   Column         Non-Null Count  Dtype  \n",
      "---  ------         --------------  -----  \n",
      " 0   Booking_ID     500 non-null    int64  \n",
      " 1   Destination    473 non-null    object \n",
      " 2   Package_Price  480 non-null    float64\n",
      " 3   Customer_Age   500 non-null    float64\n",
      " 4   Rating         500 non-null    float64\n",
      " 5   Review_Text    500 non-null    object \n",
      " 6   Travel_Date    490 non-null    object \n",
      "dtypes: float64(3), int64(1), object(3)\n",
      "memory usage: 31.2+ KB\n",
      "None\n",
      "Booking_ID        0\n",
      "Destination      27\n",
      "Package_Price    20\n",
      "Customer_Age      0\n",
      "Rating            0\n",
      "Review_Text       0\n",
      "Travel_Date      10\n",
      "dtype: int64\n",
      "0\n"
     ]
    },
    {
     "name": "stderr",
     "output_type": "stream",
     "text": [
      "C:\\Users\\bachu\\AppData\\Local\\Temp\\ipykernel_19100\\3948869697.py:21: FutureWarning: A value is trying to be set on a copy of a DataFrame or Series through chained assignment using an inplace method.\n",
      "The behavior will change in pandas 3.0. This inplace method will never work because the intermediate object on which we are setting values always behaves as a copy.\n",
      "\n",
      "For example, when doing 'df[col].method(value, inplace=True)', try using 'df.method({col: value}, inplace=True)' or df[col] = df[col].method(value) instead, to perform the operation inplace on the original object.\n",
      "\n",
      "\n",
      "  df['Review_Text'].fillna(\"No review provided\", inplace=True)\n"
     ]
    }
   ],
   "source": [
    "import pandas as pd\n",
    "import numpy as np\n",
    "import seaborn as sns\n",
    "import matplotlib.pyplot as plt\n",
    "from sklearn.impute import SimpleImputer\n",
    "from sklearn.preprocessing import MinMaxScaler, LabelEncoder\n",
    "df = pd.read_csv('Tours_and_Travels.csv')\n",
    "print(\"Columns in dataset:\", df.columns)\n",
    "cols_to_impute = [col for col in ['Customer_Age', 'Rating'] if col in df.columns]\n",
    "if cols_to_impute:\n",
    "    imputer = SimpleImputer(strategy='mean')\n",
    "    df[cols_to_impute] = imputer.fit_transform(df[cols_to_impute])\n",
    "if 'Review_Text' in df.columns:\n",
    "    df['Review_Text'].fillna(\"No review provided\", inplace=True)\n",
    "df = df.drop_duplicates()\n",
    "if 'Rating' in df.columns:\n",
    "    df['Rating'] = df['Rating'].clip(1, 5)\n",
    "numerical_cols = [col for col in ['Package_Price', 'Rating'] if col in df.columns]\n",
    "for col in numerical_cols:\n",
    "    Q1 = df[col].quantile(0.25)\n",
    "    Q3 = df[col].quantile(0.75)\n",
    "    IQR = Q3 - Q1\n",
    "    lower_bound = Q1 - 1.5 * IQR\n",
    "    upper_bound = Q3 + 1.5 * IQR\n",
    "    df[col] = np.where(df[col] < lower_bound, lower_bound, df[col])\n",
    "    df[col] = np.where(df[col] > upper_bound, upper_bound, df[col])\n",
    "if 'Package_Price' in df.columns:\n",
    "    scaler = MinMaxScaler()\n",
    "    df[['Package_Price']] = scaler.fit_transform(df[['Package_Price']])\n",
    "# Encoding Categorical Data\n",
    "if 'Tour_Package' in df.columns:\n",
    "    label_encoder = LabelEncoder()\n",
    "    df['Tour_Package'] = label_encoder.fit_transform(df['Tour_Package'])\n",
    "\n",
    "# Data Validation\n",
    "print(df.info())\n",
    "print(df.isna().sum())\n",
    "print(df.duplicated().sum())\n",
    "\n",
    "# Final Data Export\n",
    "df.to_csv('cleaned_travel_reviews.csv', index=False)"
   ]
  },
  {
   "cell_type": "code",
   "execution_count": null,
   "id": "90d0fac2-a898-4fde-b89b-9b50ab3d8400",
   "metadata": {},
   "outputs": [],
   "source": []
  }
 ],
 "metadata": {
  "kernelspec": {
   "display_name": "Python [conda env:base] *",
   "language": "python",
   "name": "conda-base-py"
  },
  "language_info": {
   "codemirror_mode": {
    "name": "ipython",
    "version": 3
   },
   "file_extension": ".py",
   "mimetype": "text/x-python",
   "name": "python",
   "nbconvert_exporter": "python",
   "pygments_lexer": "ipython3",
   "version": "3.12.7"
  }
 },
 "nbformat": 4,
 "nbformat_minor": 5
}
